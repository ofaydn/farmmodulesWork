{
 "cells": [
  {
   "cell_type": "code",
   "execution_count": 12,
   "metadata": {},
   "outputs": [
    {
     "name": "stdout",
     "output_type": "stream",
     "text": [
      "[[[0.56860035 0.0033126 ]\n",
      "  [0.36554434 0.268366  ]]\n",
      "\n",
      " [[0.23043752 0.18216227]\n",
      "  [0.50250389 0.62397307]]\n",
      "\n",
      " [[0.89542663 0.25454187]\n",
      "  [0.82743715 0.07266013]]\n",
      "\n",
      " [[0.13618932 0.22490452]\n",
      "  [0.33232959 0.22540264]]\n",
      "\n",
      " [[0.59845899 0.07565888]\n",
      "  [0.28535379 0.27098913]]]\n",
      "sa as\n",
      "[[0.56860035 0.23043752 0.89542663 0.13618932 0.59845899]\n",
      " [0.0033126  0.18216227 0.25454187 0.22490452 0.07565888]\n",
      " [0.36554434 0.50250389 0.82743715 0.33232959 0.28535379]\n",
      " [0.268366   0.62397307 0.07266013 0.22540264 0.27098913]]\n"
     ]
    }
   ],
   "source": [
    "import numpy as np\n",
    "a = np.random.rand(5,2,2)\n",
    "print(a)\n",
    "print(\"sa as\")\n",
    "print(a.reshape(5,-1).T)\n"
   ]
  },
  {
   "cell_type": "code",
   "execution_count": 2,
   "metadata": {},
   "outputs": [
    {
     "name": "stdout",
     "output_type": "stream",
     "text": [
      "53\n"
     ]
    }
   ],
   "source": [
    "w = 4\n",
    "db = 53\n",
    "params = {\"w\":w,\"db\":db}\n",
    "print(params[\"db\"])"
   ]
  },
  {
   "cell_type": "code",
   "execution_count": null,
   "metadata": {},
   "outputs": [],
   "source": []
  }
 ],
 "metadata": {
  "kernelspec": {
   "display_name": "Python 3",
   "language": "python",
   "name": "python3"
  },
  "language_info": {
   "codemirror_mode": {
    "name": "ipython",
    "version": 3
   },
   "file_extension": ".py",
   "mimetype": "text/x-python",
   "name": "python",
   "nbconvert_exporter": "python",
   "pygments_lexer": "ipython3",
   "version": "3.12.3"
  }
 },
 "nbformat": 4,
 "nbformat_minor": 2
}
